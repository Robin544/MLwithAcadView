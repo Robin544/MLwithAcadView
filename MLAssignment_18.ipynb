{
 "cells": [
  {
   "cell_type": "markdown",
   "metadata": {
    "colab_type": "text",
    "id": "yeDlBEOh3Gse"
   },
   "source": [
    "# Deep Learning Introduction"
   ]
  },
  {
   "cell_type": "code",
   "execution_count": null,
   "metadata": {},
   "outputs": [],
   "source": [
    "# Q.1- Consider the following diagram:\n",
    " \n",
    "#      where\n",
    "#      a, b, and c are inputs\n",
    "#      u = a * b\n",
    "#      v = a * c\n",
    "#      w = b + c\n",
    "#      F = u + v - w\n",
    "#      What is the value of F? Give answer in the simplest form.\n",
    "\n",
    "# Q.2- The input values and weights, along with the activation function, are given below.\n",
    "#      Find the values of x and output (f(x)). \n",
    "#      bias is -1.1, then what is the output? Is there any change? Why do we need bias? "
   ]
  },
  {
   "cell_type": "markdown",
   "metadata": {
    "colab_type": "text",
    "id": "FmiT995b3RUc"
   },
   "source": [
    "#### Question 1:"
   ]
  },
  {
   "cell_type": "markdown",
   "metadata": {
    "colab_type": "text",
    "id": "lUi8g1Zo36M0"
   },
   "source": [
    "In the question we are given with input  as **a** , **b** and **c** , whereas the initial nodes are provided as **u , v ** and **w** with calculated values **(a.b) , (a.c)** and **(b.c)** respectively.\n",
    "\n",
    "And **F** is the activation function."
   ]
  },
  {
   "cell_type": "markdown",
   "metadata": {
    "colab_type": "text",
    "id": "_FY3QKpd96NC"
   },
   "source": [
    "**F** is calculated here as **u+v-w** "
   ]
  },
  {
   "cell_type": "code",
   "execution_count": 6,
   "metadata": {
    "colab": {
     "base_uri": "https://localhost:8080/",
     "height": 34
    },
    "colab_type": "code",
    "id": "jzN2_2nV25Js",
    "outputId": "d76b7b3d-3bf1-44b0-cb9d-130a6e8ed211"
   },
   "outputs": [
    {
     "name": "stdout",
     "output_type": "stream",
     "text": [
      "(b+c) * (a-1)\n"
     ]
    }
   ],
   "source": [
    "# The solution here is taken out from the expression (ab) + (ac) - (b+c) which is an informal for u+v-w\n",
    "print('(b+c) * (a-1)')"
   ]
  },
  {
   "cell_type": "markdown",
   "metadata": {
    "colab_type": "text",
    "id": "ef5k2RUw-a72"
   },
   "source": [
    "#### Question 2:"
   ]
  },
  {
   "cell_type": "code",
   "execution_count": 7,
   "metadata": {
    "colab": {},
    "colab_type": "code",
    "id": "4tpmMb8W3NDk"
   },
   "outputs": [],
   "source": [
    "weight_1 = 2.7\n",
    "weight_2 = -8.6\n",
    "weight_3 = 0.002"
   ]
  },
  {
   "cell_type": "code",
   "execution_count": 8,
   "metadata": {
    "colab": {},
    "colab_type": "code",
    "id": "6KRcI_8z-gRt"
   },
   "outputs": [],
   "source": [
    "b1 = -0.06\n",
    "b2 = -2.5\n",
    "b3 = 1.4"
   ]
  },
  {
   "cell_type": "code",
   "execution_count": 9,
   "metadata": {
    "colab": {
     "base_uri": "https://localhost:8080/",
     "height": 34
    },
    "colab_type": "code",
    "id": "iSuGS77dAcxp",
    "outputId": "765a2ca5-d401-42fc-b6c4-955309ab4659"
   },
   "outputs": [
    {
     "data": {
      "text/plain": [
       "21.3408"
      ]
     },
     "execution_count": 9,
     "metadata": {},
     "output_type": "execute_result"
    }
   ],
   "source": [
    "x = (weight_1 * b1) + (weight_2 * b2) + (weight_3 * b3)\n",
    "x"
   ]
  },
  {
   "cell_type": "markdown",
   "metadata": {
    "colab_type": "text",
    "id": "1WmcJb10A80i"
   },
   "source": [
    "##### Calculation of Activation Function"
   ]
  },
  {
   "cell_type": "code",
   "execution_count": 10,
   "metadata": {
    "colab": {
     "base_uri": "https://localhost:8080/",
     "height": 34
    },
    "colab_type": "code",
    "id": "koKqpxCNBA5Q",
    "outputId": "04802c6d-143a-4576-d380-bfc6bf4b8036"
   },
   "outputs": [
    {
     "data": {
      "text/plain": [
       "5.392725576548147e-10"
      ]
     },
     "execution_count": 10,
     "metadata": {},
     "output_type": "execute_result"
    }
   ],
   "source": [
    "import math\n",
    "e = math.exp(-x)\n",
    "e"
   ]
  },
  {
   "cell_type": "code",
   "execution_count": 11,
   "metadata": {
    "colab": {
     "base_uri": "https://localhost:8080/",
     "height": 34
    },
    "colab_type": "code",
    "id": "SXGKWIdIAyrT",
    "outputId": "f4055f33-c18b-4aea-8e45-f462967b9b0b"
   },
   "outputs": [
    {
     "data": {
      "text/plain": [
       "0.9999999994607274"
      ]
     },
     "execution_count": 11,
     "metadata": {},
     "output_type": "execute_result"
    }
   ],
   "source": [
    "f = 1/(1+e)\n",
    "f"
   ]
  },
  {
   "cell_type": "markdown",
   "metadata": {
    "colab_type": "text",
    "id": "w6z1HxIoC1ZM"
   },
   "source": [
    "##### If bias of -1.1 is added then"
   ]
  },
  {
   "cell_type": "code",
   "execution_count": 12,
   "metadata": {
    "colab": {
     "base_uri": "https://localhost:8080/",
     "height": 34
    },
    "colab_type": "code",
    "id": "_KXehSvABY3o",
    "outputId": "47bd07ee-67b5-434f-e2d3-4306d6fb870b"
   },
   "outputs": [
    {
     "data": {
      "text/plain": [
       "20.2408"
      ]
     },
     "execution_count": 12,
     "metadata": {},
     "output_type": "execute_result"
    }
   ],
   "source": [
    "bias = -1.1\n",
    "x_b = (weight_1 * b1) + (weight_2 * b2) + (weight_3 * b3) + bias\n",
    "x_b"
   ]
  },
  {
   "cell_type": "code",
   "execution_count": 14,
   "metadata": {
    "colab": {},
    "colab_type": "code",
    "id": "n1lLL3HPDZzk"
   },
   "outputs": [
    {
     "data": {
      "text/plain": [
       "5.392725576548147e-10"
      ]
     },
     "execution_count": 14,
     "metadata": {},
     "output_type": "execute_result"
    }
   ],
   "source": [
    "import math\n",
    "ex = math.exp(-x_b)\n",
    "e"
   ]
  },
  {
   "cell_type": "code",
   "execution_count": 15,
   "metadata": {
    "colab": {
     "base_uri": "https://localhost:8080/",
     "height": 34
    },
    "colab_type": "code",
    "id": "9UWRGxoxDNpF",
    "outputId": "51c44dde-bd5c-4950-b5cf-06617312efc2"
   },
   "outputs": [
    {
     "data": {
      "text/plain": [
       "0.9999999983799357"
      ]
     },
     "execution_count": 15,
     "metadata": {},
     "output_type": "execute_result"
    }
   ],
   "source": [
    "f_bx = 1/(1+ex)\n",
    "f_bx"
   ]
  },
  {
   "cell_type": "markdown",
   "metadata": {
    "colab_type": "text",
    "id": "rSG-m6hiD2a7"
   },
   "source": [
    "##### Change in output after biasing"
   ]
  },
  {
   "cell_type": "code",
   "execution_count": 16,
   "metadata": {
    "colab": {
     "base_uri": "https://localhost:8080/",
     "height": 34
    },
    "colab_type": "code",
    "id": "6DGkUe9RDgPR",
    "outputId": "b74d7a43-9eb5-48ae-c91d-a5ecfad4d53b"
   },
   "outputs": [
    {
     "data": {
      "text/plain": [
       "1.0807916783761584e-09"
      ]
     },
     "execution_count": 16,
     "metadata": {},
     "output_type": "execute_result"
    }
   ],
   "source": [
    "diff = f - f_bx\n",
    "diff"
   ]
  },
  {
   "cell_type": "markdown",
   "metadata": {
    "colab_type": "text",
    "id": "l2la0GhsEPpI"
   },
   "source": [
    "##### There is very very small change in output as compared to the initial one which is not biased."
   ]
  },
  {
   "cell_type": "markdown",
   "metadata": {
    "colab_type": "text",
    "id": "L7RIV7uoFSIz"
   },
   "source": [
    "##### Role of Bias:\n",
    "\n",
    "The main role of bias is that it is used to shift the value of activation function by adding some constants to it .\n",
    "In this case the curve of final output get shifted either in right or left side depends upon the value of constant."
   ]
  }
 ],
 "metadata": {
  "colab": {
   "include_colab_link": true,
   "name": "assignment_20.ipynb",
   "provenance": [],
   "version": "0.3.2"
  },
  "kernelspec": {
   "display_name": "Python 3",
   "language": "python",
   "name": "python3"
  },
  "language_info": {
   "codemirror_mode": {
    "name": "ipython",
    "version": 3
   },
   "file_extension": ".py",
   "mimetype": "text/x-python",
   "name": "python",
   "nbconvert_exporter": "python",
   "pygments_lexer": "ipython3",
   "version": "3.6.5"
  }
 },
 "nbformat": 4,
 "nbformat_minor": 1
}
