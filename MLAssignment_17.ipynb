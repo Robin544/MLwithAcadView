{
 "cells": [
  {
   "cell_type": "markdown",
   "metadata": {},
   "source": [
    "# KMeans Clustering"
   ]
  },
  {
   "cell_type": "code",
   "execution_count": null,
   "metadata": {},
   "outputs": [],
   "source": [
    "# In this assignment, you are going to perform KMeans on two datasets: MNIST and Image.\n",
    "\n",
    "\n",
    "#                                        MNIST\n",
    "\n",
    "# Q.1- Import the dataset from sklearn.datasets. Save the data and target values in X and y respectively.\n",
    "\n",
    "# Q.2- Use scikit-learn's cluster method to create clusters. Pass n_clusters as 10 to form ten clusters.\n",
    "#      Use fit_predict() function to fit and predict your data.\n",
    "\n",
    "# Q.3- Because k-means knows nothing about the identity of the cluster, the 0–9 labels may be permuted.\n",
    "#      We can fix this by matching each learned cluster label with true labels found in them. You can do this by the following:\n",
    "#   a. Initialize the label variable to zero by using zeros_like() function \n",
    "#   b. Use the mode() function to save the most common labels in the label variable.\n",
    "#      Ex. label[a] = mode(y[a])[0]\n",
    "#      (https://docs.scipy.org/doc/scipy/reference/generated/scipy.stats.mode.html) \n",
    "#      (https://www.programcreek.com/python/example/100314/scipy.stats.mode)\n",
    "\n",
    "# Q.4- Print the accuracy score and confusion matrix.\n",
    "\n",
    "\n",
    "#                                        Image\n",
    "\n",
    "# Q.5- Import any one image from the load_sample_image dataset from sklearn (ex. “china.jpg”).\n",
    "#      (optional)Print the image using imshow().\n",
    "\n",
    "# Q.6- Print shape of the image.\n",
    "\n",
    "# Q.7- For clustering the image, convert the image into a two-dimensional array with the length being the 1st_dim*2nd_dim and width (3) as the RGB value using reshape() method.\n",
    "#      Use scikit-learn's cluster method to create clusters. Pass n_clusters as 7 to form seven clusters."
   ]
  },
  {
   "cell_type": "code",
   "execution_count": 1,
   "metadata": {},
   "outputs": [],
   "source": [
    "import numpy as np\n",
    "import matplotlib.pyplot as plt\n",
    "from sklearn.datasets import load_sample_image\n",
    "from sklearn.datasets import load_digits\n",
    "from sklearn.cluster import KMeans\n",
    "from sklearn.metrics import confusion_matrix, accuracy_score\n",
    "from scipy.stats import mode"
   ]
  },
  {
   "cell_type": "markdown",
   "metadata": {},
   "source": [
    "#### Answer 1:"
   ]
  },
  {
   "cell_type": "code",
   "execution_count": 2,
   "metadata": {},
   "outputs": [],
   "source": [
    "digits = load_digits()\n",
    "X = digits.data\n",
    "y = digits.target"
   ]
  },
  {
   "cell_type": "markdown",
   "metadata": {},
   "source": [
    "#### Answer 2:"
   ]
  },
  {
   "cell_type": "code",
   "execution_count": 3,
   "metadata": {},
   "outputs": [],
   "source": [
    "k_means = KMeans(n_clusters=10)\n",
    "predict = k_means.fit_predict(X)"
   ]
  },
  {
   "cell_type": "markdown",
   "metadata": {},
   "source": [
    "#### Answer 3:"
   ]
  },
  {
   "cell_type": "code",
   "execution_count": 4,
   "metadata": {},
   "outputs": [],
   "source": [
    "labels = np.zeros_like(predict)\n",
    "for i in range(10):\n",
    "    mask = (predict==i)\n",
    "    labels[mask] = mode(y[mask])[0]"
   ]
  },
  {
   "cell_type": "markdown",
   "metadata": {},
   "source": [
    "#### Answer 4:"
   ]
  },
  {
   "cell_type": "code",
   "execution_count": 5,
   "metadata": {},
   "outputs": [
    {
     "name": "stdout",
     "output_type": "stream",
     "text": [
      "Accuracy Score:  0.7896494156928213\n",
      "\n",
      "Confusion Matrix: \n",
      " [[177   0   0   0   1   0   0   0   0   0]\n",
      " [  0  55  24   1   0   1   2   0  99   0]\n",
      " [  1   2 147  13   0   0   0   4   8   2]\n",
      " [  0   0   0 154   0   2   0   7   7  13]\n",
      " [  0   7   0   0 163   0   0   8   3   0]\n",
      " [  0   0   0   1   2 136   1   0   0  42]\n",
      " [  1   1   0   0   0   0 177   0   2   0]\n",
      " [  0   2   0   0   0   4   0 171   2   0]\n",
      " [  0   6   3   2   0   4   2   5 100  52]\n",
      " [  0  20   0   6   0   7   0   8   0 139]]\n"
     ]
    }
   ],
   "source": [
    "print(\"Accuracy Score: \", accuracy_score(y, labels))\n",
    "print(\"\\nConfusion Matrix: \\n\", confusion_matrix(y, labels))"
   ]
  },
  {
   "cell_type": "markdown",
   "metadata": {},
   "source": [
    "#### Answer 5:"
   ]
  },
  {
   "cell_type": "code",
   "execution_count": 8,
   "metadata": {},
   "outputs": [
    {
     "name": "stderr",
     "output_type": "stream",
     "text": [
      "C:\\Users\\intel\\Anaconda3\\lib\\site-packages\\sklearn\\datasets\\base.py:762: DeprecationWarning: `imread` is deprecated!\n",
      "`imread` is deprecated in SciPy 1.0.0, and will be removed in 1.2.0.\n",
      "Use ``imageio.imread`` instead.\n",
      "  images = [imread(filename) for filename in filenames]\n",
      "C:\\Users\\intel\\Anaconda3\\lib\\site-packages\\sklearn\\datasets\\base.py:762: DeprecationWarning: `imread` is deprecated!\n",
      "`imread` is deprecated in SciPy 1.0.0, and will be removed in 1.2.0.\n",
      "Use ``imageio.imread`` instead.\n",
      "  images = [imread(filename) for filename in filenames]\n"
     ]
    },
    {
     "data": {
      "text/plain": [
       "numpy.ndarray"
      ]
     },
     "execution_count": 8,
     "metadata": {},
     "output_type": "execute_result"
    }
   ],
   "source": [
    "img = load_sample_image('china.jpg')\n",
    "type(img)"
   ]
  },
  {
   "cell_type": "markdown",
   "metadata": {},
   "source": [
    "#### Answer 6:"
   ]
  },
  {
   "cell_type": "code",
   "execution_count": 9,
   "metadata": {},
   "outputs": [
    {
     "data": {
      "text/plain": [
       "(427, 640, 3)"
      ]
     },
     "execution_count": 9,
     "metadata": {},
     "output_type": "execute_result"
    }
   ],
   "source": [
    "img.shape"
   ]
  },
  {
   "cell_type": "markdown",
   "metadata": {},
   "source": [
    "#### Answer 7:"
   ]
  },
  {
   "cell_type": "code",
   "execution_count": 12,
   "metadata": {},
   "outputs": [
    {
     "data": {
      "text/plain": [
       "<matplotlib.image.AxesImage at 0x93ea0f0>"
      ]
     },
     "execution_count": 12,
     "metadata": {},
     "output_type": "execute_result"
    },
    {
     "data": {
      "image/png": "[encoded data removed]",
      "text/plain": [
       "<Figure size 432x288 with 1 Axes>"
      ]
     },
     "metadata": {},
     "output_type": "display_data"
    }
   ],
   "source": [
    "l, h, d = img.shape\n",
    "img_arr = np.reshape(img, (l*h, d))\n",
    "model = KMeans(n_clusters=7)\n",
    "fimg = model.fit(img_arr)\n",
    "labels = model.predict(img_arr)\n",
    "a = np.reshape(labels, (427, 640))\n",
    "plt.imshow(a)"
   ]
  }
 ],
 "metadata": {
  "kernelspec": {
   "display_name": "Python 3",
   "language": "python",
   "name": "python3"
  },
  "language_info": {
   "codemirror_mode": {
    "name": "ipython",
    "version": 3
   },
   "file_extension": ".py",
   "mimetype": "text/x-python",
   "name": "python",
   "nbconvert_exporter": "python",
   "pygments_lexer": "ipython3",
   "version": "3.6.5"
  }
 },
 "nbformat": 4,
 "nbformat_minor": 2
}
