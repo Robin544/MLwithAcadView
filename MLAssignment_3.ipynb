{
 "cells": [
  {
   "cell_type": "code",
   "execution_count": 38,
   "metadata": {
    "scrolled": true
   },
   "outputs": [
    {
     "name": "stdout",
     "output_type": "stream",
     "text": [
      "The Conditional probability P(B|A):  0.0303030303030303\n"
     ]
    }
   ],
   "source": [
    "#                               PROBABILITY ASSIGNMENT\n",
    "\n",
    "\n",
    "# Question 1: Consider the below given probabilities: \n",
    "#             P(A) = 11 / 36\n",
    "#             P(B) = 6 / 36\n",
    "#             P(A|B) = 2 / 36\n",
    "#             Write a function in Python which takes 3 probabilities as argument and outputs the Conditional probability P(B|A).\n",
    "\n",
    "\n",
    "a = float(11/36)  # P(A)\n",
    "b = float(6/36)  # P(B)\n",
    "c = float(2/36)  # P(A|B)\n",
    "\n",
    "def probability(x, y, z):    # Function to calculate P(B|A)\n",
    "    x = a\n",
    "    y = b\n",
    "    z = c\n",
    "    probability_1 = float(z * y)\n",
    "    probability_2 = float((probability_1) / x)  # P(B|A)\n",
    "    print(\"The Conditional probability P(B|A): \", probability_2)\n",
    "\n",
    "try:\n",
    "    probability(a, b, c)\n",
    "except Exception as e:\n",
    "    print(e)"
   ]
  },
  {
   "cell_type": "code",
   "execution_count": 39,
   "metadata": {},
   "outputs": [
    {
     "name": "stdout",
     "output_type": "stream",
     "text": [
      "P(B1|B):  0.5833333333333334\n"
     ]
    }
   ],
   "source": [
    "# Question 2: Bag I contains 4 white and 6 black balls while another Bag II contains 4 white and 3 black balls.\n",
    "#             One ball is drawn at random from one of the bags and it is found to be black.\n",
    "#             Find the probability that it was drawn from Bag I.\n",
    "\n",
    "\n",
    "# Probability of selecting Bag1:\n",
    "b = 1/2  # P(B1)\n",
    "\n",
    "# Probability of selecting Bag2:\n",
    "c = 1/2  # P(B2)\n",
    "\n",
    "# Probability of getting a black ball from Bag1:\n",
    "a = 6/10  # P(B|B1)\n",
    "\n",
    "# Probability of getting black ball from Bag2:\n",
    "d = 3/7  # P(B|B2)\n",
    "\n",
    "# Probability of Bag1 being chosen given black ball is found:\n",
    "# P(B1|B) = (P(B|B1)*P(B1))/(P(B1)*P(B|B1))+(P(B2)*P(B|B2))\n",
    "# bag_1 = (a*b)/((b*a)+(c*d))\n",
    "bag_1 = ((6/10)*(1/2))/((1/2*6/10)+(1/2*3/7))\n",
    "print(\"P(B1|B): \", bag_1)"
   ]
  },
  {
   "cell_type": "code",
   "execution_count": 40,
   "metadata": {},
   "outputs": [
    {
     "name": "stdout",
     "output_type": "stream",
     "text": [
      "P(T|F):  0.28571428571428575\n"
     ]
    }
   ],
   "source": [
    "# Question 3: A man is known to speak truth 2 out of 3 times.\n",
    "#             He throws a die and reports that number obtained is a four.\n",
    "#             Find the probability that the number obtained is actually a four.\n",
    "\n",
    "\n",
    "# Probability of telling truth:\n",
    "t = 2/3  # P(T)\n",
    "\n",
    "# Probability of telling lie:\n",
    "# l = 1 - 2/3   # P(L)\n",
    "l = 1/3\n",
    "\n",
    "# Probabilty of getting four actually:\n",
    "t1 = 1/6  # P(F|T)\n",
    "\n",
    "# Probability of not getting four:\n",
    "# l1 = 1 - 1/6   # P(F|L)\n",
    "l1 = 5/6\n",
    "\n",
    "# The probability that the number obtained is actually a four:\n",
    "# P(T|F) = (P(F|T) * P(T)) / (((P(T) * P(F|T)) + (P(L) * P(F|L))))\n",
    "# p_of_four = (t1 * t) / ((t * t1) + (l * l1)))\n",
    "p_of_four = ((1/6) * (2/3)) / ((2/3 * 1/6) + (1/3 * 5/6))\n",
    "print(\"P(T|F): \", p_of_four)"
   ]
  }
 ],
 "metadata": {
  "kernelspec": {
   "display_name": "Python 3",
   "language": "python",
   "name": "python3"
  },
  "language_info": {
   "codemirror_mode": {
    "name": "ipython",
    "version": 3
   },
   "file_extension": ".py",
   "mimetype": "text/x-python",
   "name": "python",
   "nbconvert_exporter": "python",
   "pygments_lexer": "ipython3",
   "version": "3.6.5"
  }
 },
 "nbformat": 4,
 "nbformat_minor": 2
}
