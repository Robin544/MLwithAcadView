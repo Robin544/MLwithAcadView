{
 "cells": [
  {
   "cell_type": "markdown",
   "metadata": {},
   "source": [
    "# Naive Baiyes Algorithm"
   ]
  },
  {
   "cell_type": "code",
   "execution_count": 5,
   "metadata": {},
   "outputs": [],
   "source": [
    "# Q.1- What is the probability of a person playing when the weather is sunny? Find P(Yes|Sunny).\n",
    "\n",
    "#   Weather \tPlay\n",
    "#   Sunny\tNo\n",
    "#   Overcast\tYes\n",
    "#   Rainy\tYes\n",
    "#   Sunny\tYes\n",
    "#   Sunny\tYes\n",
    "#   Overcast\tYes\n",
    "#   Rainy\tNo\n",
    "#   Rainy\tNo\n",
    "#   Sunny\tYes\n",
    "#   Rainy\tYes\n",
    "#   Sunny\tNo\n",
    "#   Overcast\tYes\n",
    "#   Overcast\tYes\n",
    "#   Rainy\tNo\n",
    "\n",
    "\n",
    "# Q.2- Solve the following:\n",
    "#      a) Import iris dataset from sklearn.\n",
    "\n",
    "#      b) Split the dataset into training and testing sets using train_test_split() \n",
    "\n",
    "#      c) Use GaussianNB and print the following:\n",
    "#         i. Confusion matrix\n",
    "#         ii. Classification report\n",
    "\n",
    "#      d) Use MultinomialNB and print the following:\n",
    "#         i. Confusion matrix\n",
    "#         ii. Classification report"
   ]
  },
  {
   "cell_type": "markdown",
   "metadata": {},
   "source": [
    "#### Question 1:"
   ]
  },
  {
   "cell_type": "markdown",
   "metadata": {},
   "source": [
    "P(yes/sunny) = p(sunny/yes) * p(yes) / p(sunny)\n",
    "Answer - 3/5"
   ]
  },
  {
   "cell_type": "markdown",
   "metadata": {},
   "source": [
    "#### Question 2:"
   ]
  },
  {
   "cell_type": "code",
   "execution_count": 8,
   "metadata": {},
   "outputs": [],
   "source": [
    "import pandas as pd\n",
    "import matplotlib.pyplot as plt\n",
    "import numpy as np\n",
    "from sklearn import datasets\n",
    "from sklearn.model_selection import train_test_split\n",
    "from sklearn.naive_bayes import GaussianNB\n",
    "from sklearn.metrics import classification_report\n",
    "from sklearn.metrics import confusion_matrix\n",
    "from sklearn.naive_bayes import MultinomialNB\n",
    "from sklearn.metrics import classification_report\n",
    "from sklearn.metrics import confusion_matrix"
   ]
  },
  {
   "cell_type": "code",
   "execution_count": 19,
   "metadata": {},
   "outputs": [
    {
     "name": "stdout",
     "output_type": "stream",
     "text": [
      "GaussianNB(priors=None)\n"
     ]
    }
   ],
   "source": [
    "iris = datasets.load_iris()\n",
    "x = iris.data\n",
    "y = iris.target\n",
    "x_train, x_test, y_train, y_test = train_test_split(x, y, test_size=0.5, random_state=20)\n",
    "\n",
    "gnb = GaussianNB()\n",
    "print(gnb.fit(x_train, y_train))"
   ]
  },
  {
   "cell_type": "code",
   "execution_count": 14,
   "metadata": {},
   "outputs": [
    {
     "name": "stdout",
     "output_type": "stream",
     "text": [
      "             precision    recall  f1-score   support\n",
      "\n",
      "          0       1.00      1.00      1.00        24\n",
      "          1       0.89      1.00      0.94        33\n",
      "          2       1.00      0.78      0.88        18\n",
      "\n",
      "avg / total       0.95      0.95      0.94        75\n",
      "\n"
     ]
    }
   ],
   "source": [
    "g_pred = gnb.predict(x_test)\n",
    "print(classification_report(y_test, g_pred))"
   ]
  },
  {
   "cell_type": "code",
   "execution_count": 15,
   "metadata": {},
   "outputs": [
    {
     "name": "stdout",
     "output_type": "stream",
     "text": [
      "[[24  0  0]\n",
      " [ 0 33  0]\n",
      " [ 0  4 14]]\n"
     ]
    }
   ],
   "source": [
    "print(confusion_matrix(y_test, g_pred))"
   ]
  },
  {
   "cell_type": "code",
   "execution_count": 20,
   "metadata": {},
   "outputs": [
    {
     "name": "stdout",
     "output_type": "stream",
     "text": [
      "MultinomialNB(alpha=1.0, class_prior=None, fit_prior=True)\n"
     ]
    }
   ],
   "source": [
    "mnb = MultinomialNB()\n",
    "print(mnb.fit(x_train, y_train))"
   ]
  },
  {
   "cell_type": "code",
   "execution_count": 22,
   "metadata": {},
   "outputs": [
    {
     "name": "stdout",
     "output_type": "stream",
     "text": [
      "             precision    recall  f1-score   support\n",
      "\n",
      "          0       1.00      1.00      1.00        24\n",
      "          1       0.00      0.00      0.00        33\n",
      "          2       0.35      1.00      0.52        18\n",
      "\n",
      "avg / total       0.40      0.56      0.45        75\n",
      "\n"
     ]
    },
    {
     "name": "stderr",
     "output_type": "stream",
     "text": [
      "C:\\Users\\intel\\Anaconda3\\lib\\site-packages\\sklearn\\metrics\\classification.py:1135: UndefinedMetricWarning: Precision and F-score are ill-defined and being set to 0.0 in labels with no predicted samples.\n",
      "  'precision', 'predicted', average, warn_for)\n"
     ]
    }
   ],
   "source": [
    "m_pred = mnb.predict(x_test)\n",
    "print(classification_report(y_test, m_pred))"
   ]
  },
  {
   "cell_type": "code",
   "execution_count": 24,
   "metadata": {},
   "outputs": [
    {
     "name": "stdout",
     "output_type": "stream",
     "text": [
      "[[24  0  0]\n",
      " [ 0  0 33]\n",
      " [ 0  0 18]]\n"
     ]
    }
   ],
   "source": [
    "print(confusion_matrix( y_test, m_pred))"
   ]
  }
 ],
 "metadata": {
  "kernelspec": {
   "display_name": "Python 3",
   "language": "python",
   "name": "python3"
  },
  "language_info": {
   "codemirror_mode": {
    "name": "ipython",
    "version": 3
   },
   "file_extension": ".py",
   "mimetype": "text/x-python",
   "name": "python",
   "nbconvert_exporter": "python",
   "pygments_lexer": "ipython3",
   "version": "3.6.5"
  }
 },
 "nbformat": 4,
 "nbformat_minor": 2
}
